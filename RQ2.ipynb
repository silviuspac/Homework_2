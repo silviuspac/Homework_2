{
 "cells": [
  {
   "cell_type": "markdown",
   "metadata": {},
   "source": [
    "# [RQ2] _Is there a home-field advantage?_\n",
    "\n",
    "Our aim, in this step, is to verify the subsistance of an actual correlation between the victories gained by a team and the side on which the match is played. \n",
    "We will draw our conclusions from the results obtained by the run of a Chi-Squared test based on the following hypotheses system:\n",
    "\n",
    "$H_0 =$ **{_\"There is no causal nexus between the win of the team and the fact it plays home\"_}**\n",
    "<br>\n",
    "$H_1 =$ **{_\"There is a causal nexus between the win of the team and the fact it plays home\"_}**"
   ]
  },
  {
   "cell_type": "code",
   "execution_count": null,
   "metadata": {},
   "outputs": [],
   "source": [
    "from scipy.stats import chi2_contingency\n",
    "from scipy.stats import chi2\n",
    "from random import sample\n",
    "from functions import contingency_table"
   ]
  },
  {
   "cell_type": "code",
   "execution_count": null,
   "metadata": {},
   "outputs": [],
   "source": [
    "teams = ['Southampton', 'Liverpool', 'Chelsea', 'Manchester United', 'Everton']"
   ]
  },
  {
   "cell_type": "code",
   "execution_count": null,
   "metadata": {},
   "outputs": [],
   "source": [
    "cont_table = contingency_table(df, teams)\n",
    "cont_table"
   ]
  },
  {
   "cell_type": "code",
   "execution_count": 147,
   "metadata": {},
   "outputs": [],
   "source": [
    "stat, p, dof, expected = chi2_contingency(cont_table)"
   ]
  },
  {
   "cell_type": "code",
   "execution_count": 152,
   "metadata": {},
   "outputs": [
    {
     "data": {
      "text/plain": [
       "0.0022253454048998303"
      ]
     },
     "execution_count": 152,
     "metadata": {},
     "output_type": "execute_result"
    }
   ],
   "source": [
    "p"
   ]
  },
  {
   "cell_type": "markdown",
   "metadata": {},
   "source": [
    "Since the p-value is less than 0.01, we are allowed to reject the null hypothesis and come to the conclusion that it exists a connection between the wins brought back by a team and the fact it plays the match at home."
   ]
  }
 ],
 "metadata": {
  "kernelspec": {
   "display_name": "Python 3",
   "language": "python",
   "name": "python3"
  },
  "language_info": {
   "codemirror_mode": {
    "name": "ipython",
    "version": 3
   },
   "file_extension": ".py",
   "mimetype": "text/x-python",
   "name": "python",
   "nbconvert_exporter": "python",
   "pygments_lexer": "ipython3",
   "version": "3.7.1"
  }
 },
 "nbformat": 4,
 "nbformat_minor": 2
}

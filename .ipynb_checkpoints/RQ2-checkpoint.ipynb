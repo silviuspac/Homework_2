{
 "cells": [
  {
   "cell_type": "markdown",
   "metadata": {},
   "source": [
    "# RQ2"
   ]
  },
  {
   "cell_type": "markdown",
   "metadata": {},
   "source": [
    "### The following code in intended to be used in the same notebook of RQ1, since it resorts to variables there defined"
   ]
  },
  {
   "cell_type": "code",
   "execution_count": null,
   "metadata": {},
   "outputs": [],
   "source": [
    "from scipy.stats import chi2_contingency\n",
    "from scipy.stats import chi2"
   ]
  },
  {
   "cell_type": "code",
   "execution_count": 144,
   "metadata": {},
   "outputs": [
    {
     "name": "stdout",
     "output_type": "stream",
     "text": [
      "       win  lose  draw  total\n",
      "home    15     2     2     19\n",
      "away    11     4     4     19\n",
      "total   26     6     6     38\n",
      "\n",
      "       win  lose  draw  total\n",
      "home    12     0     7     19\n",
      "away     5     9     5     19\n",
      "total   17     9    12     38\n",
      "\n",
      "       win  lose  draw  total\n",
      "home    11     4     4     19\n",
      "away     6    10     3     19\n",
      "total   17    14     7     38\n",
      "\n",
      "       win  lose  draw  total\n",
      "home    15     2     2     19\n",
      "away     5    10     4     19\n",
      "total   20    12     6     38\n",
      "\n",
      "       win  lose  draw  total\n",
      "home    10     5     4     19\n",
      "away    10     3     6     19\n",
      "total   20     8    10     38\n",
      "\n"
     ]
    }
   ],
   "source": [
    "teams = ['Southampton', 'Liverpool', 'Chelsea', 'Manchester United', 'Everton']\n",
    "\n",
    "for i in range(len(teams)):\n",
    "    globals()['dic_t%s' % i] = {\"win\" : [0,0,0], \"lose\" : [0,0,0], \"draw\" : [0,0,0], \"total\" : [0,0,0]}\n",
    "    \n",
    "for i in range(len(df)):\n",
    "    for j in range(len(teams)):        \n",
    "        if df.team1[i] == teams[j]:\n",
    "            if df.score1[i] > df.score2[i]:\n",
    "                eval('dic_t%s' % j)[\"win\"][0] += 1\n",
    "                eval('dic_t%s' % j)[\"win\"][2] += 1\n",
    "                eval('dic_t%s' % j)[\"total\"][0] += 1\n",
    "                eval('dic_t%s' % j)[\"total\"][2] += 1\n",
    "            elif df.score1[i] < df.score2[i]:\n",
    "                eval('dic_t%s' % j)[\"lose\"][0] += 1\n",
    "                eval('dic_t%s' % j)[\"lose\"][2] += 1\n",
    "                eval('dic_t%s' % j)[\"total\"][0] += 1\n",
    "                eval('dic_t%s' % j)[\"total\"][2] += 1\n",
    "            else:\n",
    "                eval('dic_t%s' % j)[\"draw\"][0] += 1\n",
    "                eval('dic_t%s' % j)[\"draw\"][2] += 1\n",
    "                eval('dic_t%s' % j)[\"total\"][0] += 1\n",
    "                eval('dic_t%s' % j)[\"total\"][2] += 1\n",
    "        elif df.team2[i] == teams[j]:\n",
    "            if df.score1[i] > df.score2[i]:\n",
    "                eval('dic_t%s' % j)[\"win\"][1] += 1\n",
    "                eval('dic_t%s' % j)[\"win\"][2] += 1\n",
    "                eval('dic_t%s' % j)[\"total\"][1] += 1\n",
    "                eval('dic_t%s' % j)[\"total\"][2] += 1\n",
    "            elif df.score1[i] < df.score2[i]:\n",
    "                eval('dic_t%s' % j)[\"lose\"][1] += 1\n",
    "                eval('dic_t%s' % j)[\"lose\"][2] += 1\n",
    "                eval('dic_t%s' % j)[\"total\"][1] += 1\n",
    "                eval('dic_t%s' % j)[\"total\"][2] += 1\n",
    "            else:\n",
    "                eval('dic_t%s' % j)[\"draw\"][1] += 1\n",
    "                eval('dic_t%s' % j)[\"draw\"][2] += 1\n",
    "                eval('dic_t%s' % j)[\"total\"][1] += 1\n",
    "                eval('dic_t%s' % j)[\"total\"][2] += 1\n",
    "        \n",
    "for k in range(1, 6):\n",
    "    globals()['cont_table_t%s' % k] = pd.DataFrame(eval('dic_t%s' % int(k-1)))\n",
    "    eval('cont_table_t%s' % k).index = ['home', 'away', 'total']\n",
    "    print(eval('cont_table_t%s' % k))\n",
    "    print()"
   ]
  },
  {
   "cell_type": "code",
   "execution_count": 147,
   "metadata": {},
   "outputs": [],
   "source": [
    "stat, p, dof, expected = chi2_contingency(cont_table_t2)"
   ]
  },
  {
   "cell_type": "code",
   "execution_count": 151,
   "metadata": {},
   "outputs": [],
   "source": [
    "lst = [[12, 0, 7],\n",
    "      [5, 9, 5]]\n",
    "stat, p, dof, expected = chi2_contingency(lst)"
   ]
  },
  {
   "cell_type": "code",
   "execution_count": 152,
   "metadata": {},
   "outputs": [
    {
     "data": {
      "text/plain": [
       "0.0022253454048998303"
      ]
     },
     "execution_count": 152,
     "metadata": {},
     "output_type": "execute_result"
    }
   ],
   "source": [
    "p"
   ]
  },
  {
   "cell_type": "code",
   "execution_count": null,
   "metadata": {},
   "outputs": [],
   "source": []
  }
 ],
 "metadata": {
  "kernelspec": {
   "display_name": "Python 3",
   "language": "python",
   "name": "python3"
  },
  "language_info": {
   "codemirror_mode": {
    "name": "ipython",
    "version": 3
   },
   "file_extension": ".py",
   "mimetype": "text/x-python",
   "name": "python",
   "nbconvert_exporter": "python",
   "pygments_lexer": "ipython3",
   "version": "3.7.1"
  }
 },
 "nbformat": 4,
 "nbformat_minor": 2
}

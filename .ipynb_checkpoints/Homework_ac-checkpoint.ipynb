{
 "cells": [
  {
   "cell_type": "code",
   "execution_count": 3,
   "metadata": {},
   "outputs": [
    {
     "ename": "ModuleNotFoundError",
     "evalue": "No module named 'functionsas.py'; 'functionsas' is not a package",
     "output_type": "error",
     "traceback": [
      "\u001b[0;31m---------------------------------------------------------------------------\u001b[0m",
      "\u001b[0;31mModuleNotFoundError\u001b[0m                       Traceback (most recent call last)",
      "\u001b[0;32m<ipython-input-3-839627dcfe9c>\u001b[0m in \u001b[0;36m<module>\u001b[0;34m()\u001b[0m\n\u001b[1;32m      5\u001b[0m \u001b[0;32mfrom\u001b[0m \u001b[0mbokeh\u001b[0m\u001b[0;34m.\u001b[0m\u001b[0mplotting\u001b[0m \u001b[0;32mimport\u001b[0m \u001b[0mfigure\u001b[0m\u001b[0;34m\u001b[0m\u001b[0;34m\u001b[0m\u001b[0m\n\u001b[1;32m      6\u001b[0m \u001b[0;32mfrom\u001b[0m \u001b[0mcollections\u001b[0m \u001b[0;32mimport\u001b[0m \u001b[0mOrderedDict\u001b[0m\u001b[0;34m\u001b[0m\u001b[0;34m\u001b[0m\u001b[0m\n\u001b[0;32m----> 7\u001b[0;31m \u001b[0;32mimport\u001b[0m \u001b[0mfunctionsas\u001b[0m\u001b[0;34m.\u001b[0m\u001b[0mpy\u001b[0m \u001b[0;32mas\u001b[0m \u001b[0mfunc\u001b[0m\u001b[0;34m\u001b[0m\u001b[0;34m\u001b[0m\u001b[0m\n\u001b[0m",
      "\u001b[0;31mModuleNotFoundError\u001b[0m: No module named 'functionsas.py'; 'functionsas' is not a package"
     ]
    }
   ],
   "source": [
    "import pandas as pd\n",
    "import numpy as np\n",
    "import seaborn as se\n",
    "import matplotlib.pyplot as plt\n",
    "from bokeh.plotting import figure\n",
    "from collections import OrderedDict\n",
    "import functionsas as func "
   ]
  },
  {
   "cell_type": "code",
   "execution_count": null,
   "metadata": {},
   "outputs": [],
   "source": [
    "import warnings\n",
    "warnings.filterwarnings('ignore')"
   ]
  },
  {
   "cell_type": "code",
   "execution_count": null,
   "metadata": {},
   "outputs": [],
   "source": [
    "#path = r\"C:\\Users\\Giorgio\\Documents\\Data Science\\ADM\\HW2\\Data\"\n",
    "\n",
    "pl = pd.read_json(\"../dataset/matches/matches_England.json\")\n",
    "df = pd.DataFrame(pl, columns = ['gameweek','label'])\n",
    "print(df)\n",
    "df.sort_values(by = ['gameweek'], inplace = True)\n",
    "df.reset_index(drop = True, inplace = True)\n",
    "df"
   ]
  },
  {
   "cell_type": "code",
   "execution_count": null,
   "metadata": {},
   "outputs": [],
   "source": [
    "df['team1'] = ''\n",
    "df['team2'] = ''\n",
    "df['score1'] = 0\n",
    "df['score2'] = 0"
   ]
  },
  {
   "cell_type": "code",
   "execution_count": null,
   "metadata": {},
   "outputs": [],
   "source": [
    "for i in range(len(df)):\n",
    "    df['team1'][i] = ((df['label'][i].replace(',', '-')).split('-'))[0].strip()\n",
    "    df['team2'][i] = ((df['label'][i].replace(',', '-')).split('-'))[1].strip()\n",
    "    p1 = ((df['label'][i].replace(',', '-')).split('-'))[2].strip()\n",
    "    p2 = ((df['label'][i].replace(',', '-')).split('-'))[3].strip()\n",
    "    if(int(p1) > int(p2)):\n",
    "        df['score1'][i] +=  3\n",
    "    elif(int(p1) == int(p2)):\n",
    "        df['score1'][i] += 1\n",
    "        df['score2'][i] += 1\n",
    "    else:\n",
    "        df['score2'][i] += 3\n"
   ]
  },
  {
   "cell_type": "code",
   "execution_count": null,
   "metadata": {},
   "outputs": [],
   "source": [
    "df.iloc[[1]]"
   ]
  },
  {
   "cell_type": "code",
   "execution_count": null,
   "metadata": {
    "scrolled": true
   },
   "outputs": [],
   "source": [
    "ars = pd.DataFrame(columns = ['gameweek', 'label', 'team1', 'team2', 'score1', 'score2'])\n",
    "for i in range(len(df)):\n",
    "    if bool(df.team1[i] == 'Arsenal' or df.team2[i] == 'Arsenal'):\n",
    "        ars = ars.append(df.iloc[[i]])\n",
    "ars"
   ]
  },
  {
   "cell_type": "code",
   "execution_count": null,
   "metadata": {
    "scrolled": true
   },
   "outputs": [],
   "source": [
    "d = {}\n",
    "for i in range(len(df)):\n",
    "    if df.team1[i] not in d:\n",
    "        d[df.team1[i]] = [int(df.score1[i]),0,0,0,0,0,0,0,0,0,0,0,0,0,0,0,0,0,0,0,0,0,0,0,0,0,0,0,0,0,0,0,0,0,0,0,0,0]\n",
    "    else:\n",
    "        d[df.team1[i]][df.gameweek[i]-1] += df.score1[i] + d[df.team1[i]][df.gameweek[i]-2]\n",
    "    if df.team2[i] not in d:\n",
    "        d[df.team2[i]] = [int(df.score2[i]),0,0,0,0,0,0,0,0,0,0,0,0,0,0,0,0,0,0,0,0,0,0,0,0,0,0,0,0,0,0,0,0,0,0,0,0,0]\n",
    "    else:\n",
    "        d[df.team2[i]][df.gameweek[i]-1] += df.score2[i] + d[df.team2[i]][df.gameweek[i]-2]\n",
    "for elem in d:\n",
    "    print(elem, d[elem])"
   ]
  },
  {
   "cell_type": "code",
   "execution_count": null,
   "metadata": {
    "scrolled": true
   },
   "outputs": [],
   "source": [
    "allsquad = pd.DataFrame(d)\n",
    "allsquad.index = np.arange(1, len(allsquad)+1)\n",
    "allsquad"
   ]
  },
  {
   "cell_type": "code",
   "execution_count": null,
   "metadata": {},
   "outputs": [],
   "source": [
    "streak = OrderedDict()\n",
    "for elem in d:\n",
    "    if elem not in streak:\n",
    "        streak[elem] = [0, 0]   # [win, lose] streak\n",
    "    current_win = 1\n",
    "    current_lose = 1\n",
    "    max_win = 1\n",
    "    max_lose = 1\n",
    "    for i in range(1, len(d[elem])):\n",
    "        if d[elem][i] == d[elem][i-1] + 3:\n",
    "            current_win += 1\n",
    "            if current_lose >= max_lose:\n",
    "                max_lose = current_lose\n",
    "            current_lose = 0\n",
    "        elif d[elem][i] == d[elem][i-1]:\n",
    "            current_lose += 1\n",
    "            if current_win >= max_win:\n",
    "                max_win = current_win\n",
    "            current_win = 0\n",
    "        else:\n",
    "            if current_lose >= max_lose:\n",
    "                max_lose = current_lose\n",
    "            current_lose = 0\n",
    "            if current_win >= max_win:\n",
    "                max_win = current_win\n",
    "            current_win = 0\n",
    "        streak[elem][0] = max_win\n",
    "        streak[elem][1] = max_lose\n",
    "win_ord = OrderedDict(sorted(streak.items(), key=lambda x:x[1][0]))   # sort by win streak\n",
    "winner1 = list(win_ord)[-1]\n",
    "winner2 = list(win_ord)[-2]\n",
    "lose_ord = OrderedDict(sorted(streak.items(), key=lambda x:x[1][1]))   # sort by win streak\n",
    "loser1 = list(lose_ord)[-1]\n",
    "loser2 = list(lose_ord)[-2]\n",
    "\n",
    "#debug\n",
    "for elem in streak:\n",
    "    print(elem, streak[elem])\n",
    "\n",
    "print(winner1, winner2)\n",
    "print(loser1, loser2)   "
   ]
  },
  {
   "cell_type": "code",
   "execution_count": null,
   "metadata": {
    "scrolled": true
   },
   "outputs": [],
   "source": [
    "allsquad[winner1]"
   ]
  },
  {
   "cell_type": "code",
   "execution_count": null,
   "metadata": {},
   "outputs": [],
   "source": [
    "fig, ax = plt.subplots()\n",
    "se.set(font_scale = 1.5)\n",
    "fig.set_size_inches(16, 11)\n",
    "ax.xaxis.grid(False)\n",
    "ax.set_xticks(list(range(1, 39))) \n",
    "ax.set_xticklabels(list(range(1, 39)), fontsize = 14, horizontalalignment='right')\n",
    "ax.axes.set_title(\"Rankings\", fontsize = 30, fontweight=\"bold\")\n",
    "ax.set_xlabel(\"Gameweeks\",fontsize = 20)\n",
    "ax.set_ylabel(\"Points\",fontsize = 20)\n",
    "x = se.lineplot(data = allsquad, hue = allsquad.columns, ax = ax, legend = 'full', palette = 'cubehelix', style = 'choice', \n",
    "                dashes = False, size = 'coherence', sizes=(.25, 2.5))\n",
    "x.legend(loc='center right', bbox_to_anchor=(1.25, 0.5), ncol=1, fontsize = 15)\n",
    "# ax.set_xticks([float(n)+0.5 for n in ax.get_xticks()])\n",
    "plt.plot(allsquad[winner1], marker = '', linewidth = 15, alpha = 0.5)\n",
    "plt.plot(allsquad[winner2], marker = '', linewidth = 15, alpha=0.5)\n",
    "plt.plot(allsquad[loser1], marker = '', linewidth = 15, alpha=0.5)\n",
    "plt.plot(allsquad[loser2], marker = '', linewidth = 15, alpha=0.5)\n",
    "plt.show(x)"
   ]
  },
  {
   "cell_type": "markdown",
   "metadata": {},
   "source": [
    "# RQ2"
   ]
  },
  {
   "cell_type": "code",
   "execution_count": null,
   "metadata": {},
   "outputs": [],
   "source": [
    "team_1 = \"Southampton\"\n",
    "team_2 = \"Liverpool\"\n",
    "team_3 = \"Chelsea\"\n",
    "team_4 = \"Manchester United\"\n",
    "team_5 = \"Everton\"\n",
    "dic_t1 = {\"win\" : [0,0,0], \"lose\" : [0,0,0], \"draw\" : [0,0,0], \"total\" : [0,0,0]}\n",
    "dic_t2 = {\"win\" : [0,0,0], \"lose\" : [0,0,0], \"draw\" : [0,0,0], \"total\" : [0,0,0]}\n",
    "dic_t3 = {\"win\" : [0,0,0], \"lose\" : [0,0,0], \"draw\" : [0,0,0], \"total\" : [0,0,0]}\n",
    "dic_t4 = {\"win\" : [0,0,0], \"lose\" : [0,0,0], \"draw\" : [0,0,0], \"total\" : [0,0,0]}\n",
    "dic_t5 = {\"win\" : [0,0,0], \"lose\" : [0,0,0], \"draw\" : [0,0,0], \"total\" : [0,0,0]}\n",
    "for i in range(len(df)):\n",
    "    if df.team1[i] == team_1 :\n",
    "        if df.score1[i] > df.score2[i]:\n",
    "            dic_t1[\"win\"][0] += 1\n",
    "            dic_t1[\"win\"][2] += 1\n",
    "            dic_t1[\"total\"][0] += 1\n",
    "            dic_t1[\"total\"][2] += 1\n",
    "        elif df.score1[i] < df.score2[i]:\n",
    "            dic_t1[\"lose\"][0] += 1\n",
    "            dic_t1[\"lose\"][2] += 1\n",
    "            dic_t1[\"total\"][0] += 1\n",
    "            dic_t1[\"total\"][2] += 1\n",
    "        else:\n",
    "            dic_t1[\"draw\"][0] += 1\n",
    "            dic_t1[\"draw\"][2] += 1\n",
    "            dic_t1[\"total\"][0] += 1\n",
    "            dic_t1[\"total\"][2] += 1\n",
    "    if df.team2[i] == team_1 :\n",
    "        if df.score1[i] > df.score2[i]:\n",
    "            dic_t1[\"win\"][1] += 1\n",
    "            dic_t1[\"win\"][2] += 1\n",
    "            dic_t1[\"total\"][1] += 1\n",
    "            dic_t1[\"total\"][2] += 1\n",
    "        elif df.score1[i] < df.score2[i]:\n",
    "            dic_t1[\"lose\"][1] += 1\n",
    "            dic_t1[\"lose\"][2] += 1\n",
    "            dic_t1[\"total\"][1] += 1\n",
    "            dic_t1[\"total\"][2] += 1\n",
    "        else:\n",
    "            dic_t1[\"draw\"][1] += 1\n",
    "            dic_t1[\"draw\"][2] += 1\n",
    "            dic_t1[\"total\"][1] += 1\n",
    "            dic_t1[\"total\"][2] += 1\n",
    "    if df.team1[i] == team_2 :\n",
    "        if df.score1[i] > df.score2[i]:\n",
    "            dic_t2[\"win\"][0] += 1\n",
    "            dic_t2[\"win\"][2] += 1\n",
    "            dic_t2[\"total\"][0] += 1\n",
    "            dic_t2[\"total\"][2] += 1\n",
    "        elif df.score1[i] < df.score2[i]:\n",
    "            dic_t2[\"lose\"][0] += 1\n",
    "            dic_t2[\"lose\"][2] += 1\n",
    "            dic_t2[\"total\"][0] += 1\n",
    "            dic_t2[\"total\"][2] += 1\n",
    "        else:\n",
    "            dic_t2[\"draw\"][0] += 1\n",
    "            dic_t2[\"draw\"][2] += 1\n",
    "            dic_t2[\"total\"][0] += 1\n",
    "            dic_t2[\"total\"][2] += 1\n",
    "    if df.team2[i] == team_2 :\n",
    "        if df.score1[i] > df.score2[i]:\n",
    "            dic_t2[\"win\"][1] += 1\n",
    "            dic_t2[\"win\"][2] += 1\n",
    "            dic_t2[\"total\"][1] += 1\n",
    "            dic_t2[\"total\"][2] += 1\n",
    "        elif df.score1[i] < df.score2[i]:\n",
    "            dic_t2[\"lose\"][1] += 1\n",
    "            dic_t2[\"lose\"][2] += 1\n",
    "            dic_t2[\"total\"][1] += 1\n",
    "            dic_t2[\"total\"][2] += 1\n",
    "        else:\n",
    "            dic_t2[\"draw\"][1] += 1\n",
    "            dic_t2[\"draw\"][2] += 1\n",
    "            dic_t2[\"total\"][1] += 1\n",
    "            dic_t2[\"total\"][2] += 1\n",
    "    if df.team1[i] == team_3 :\n",
    "        if df.score1[i] > df.score2[i]:\n",
    "            dic_t3[\"win\"][0] += 1\n",
    "            dic_t3[\"win\"][2] += 1\n",
    "            dic_t3[\"total\"][0] += 1\n",
    "            dic_t3[\"total\"][2] += 1\n",
    "        elif df.score1[i] < df.score2[i]:\n",
    "            dic_t3[\"lose\"][0] += 1\n",
    "            dic_t3[\"lose\"][2] += 1\n",
    "            dic_t3[\"total\"][0] += 1\n",
    "            dic_t3[\"total\"][2] += 1\n",
    "        else:\n",
    "            dic_t3[\"draw\"][0] += 1\n",
    "            dic_t3[\"draw\"][2] += 1\n",
    "            dic_t3[\"total\"][0] += 1\n",
    "            dic_t3[\"total\"][2] += 1\n",
    "    if df.team2[i] == team_3 :\n",
    "        if df.score1[i] > df.score2[i]:\n",
    "            dic_t3[\"win\"][1] += 1\n",
    "            dic_t3[\"win\"][2] += 1\n",
    "            dic_t3[\"total\"][1] += 1\n",
    "            dic_t3[\"total\"][2] += 1\n",
    "        elif df.score1[i] < df.score2[i]:\n",
    "            dic_t3[\"lose\"][1] += 1\n",
    "            dic_t3[\"lose\"][2] += 1\n",
    "            dic_t3[\"total\"][1] += 1\n",
    "            dic_t3[\"total\"][2] += 1\n",
    "        else:\n",
    "            dic_t3[\"draw\"][1] += 1\n",
    "            dic_t3[\"draw\"][2] += 1\n",
    "            dic_t3[\"total\"][1] += 1\n",
    "            dic_t3[\"total\"][2] += 1\n",
    "    if df.team1[i] == team_4 :\n",
    "        if df.score1[i] > df.score2[i]:\n",
    "            dic_t4[\"win\"][0] += 1\n",
    "            dic_t4[\"win\"][2] += 1\n",
    "            dic_t4[\"total\"][0] += 1\n",
    "            dic_t4[\"total\"][2] += 1\n",
    "        elif df.score1[i] < df.score2[i]:\n",
    "            dic_t4[\"lose\"][0] += 1\n",
    "            dic_t4[\"lose\"][2] += 1\n",
    "            dic_t4[\"total\"][0] += 1\n",
    "            dic_t4[\"total\"][2] += 1\n",
    "        else:\n",
    "            dic_t4[\"draw\"][0] += 1\n",
    "            dic_t4[\"draw\"][2] += 1\n",
    "            dic_t4[\"total\"][0] += 1\n",
    "            dic_t4[\"total\"][2] += 1\n",
    "    if df.team2[i] == team_4 :\n",
    "        if df.score1[i] > df.score2[i]:\n",
    "            dic_t4[\"win\"][1] += 1\n",
    "            dic_t4[\"win\"][2] += 1\n",
    "            dic_t4[\"total\"][1] += 1\n",
    "            dic_t4[\"total\"][2] += 1\n",
    "        elif df.score1[i] < df.score2[i]:\n",
    "            dic_t4[\"lose\"][1] += 1\n",
    "            dic_t4[\"lose\"][2] += 1\n",
    "            dic_t4[\"total\"][1] += 1\n",
    "            dic_t4[\"total\"][2] += 1\n",
    "        else:\n",
    "            dic_t4[\"draw\"][1] += 1\n",
    "            dic_t4[\"draw\"][2] += 1\n",
    "            dic_t4[\"total\"][1] += 1\n",
    "            dic_t4[\"total\"][2] += 1\n",
    "    if df.team1[i] == team_5 :\n",
    "        if df.score1[i] > df.score2[i]:\n",
    "            dic_t5[\"win\"][0] += 1\n",
    "            dic_t5[\"win\"][2] += 1\n",
    "            dic_t5[\"total\"][0] += 1\n",
    "            dic_t5[\"total\"][2] += 1\n",
    "        elif df.score1[i] < df.score2[i]:\n",
    "            dic_t5[\"lose\"][0] += 1\n",
    "            dic_t5[\"lose\"][2] += 1\n",
    "            dic_t5[\"total\"][0] += 1\n",
    "            dic_t5[\"total\"][2] += 1\n",
    "        else:\n",
    "            dic_t5[\"draw\"][0] += 1\n",
    "            dic_t5[\"draw\"][2] += 1\n",
    "            dic_t5[\"total\"][0] += 1\n",
    "            dic_t5[\"total\"][2] += 1\n",
    "    if df.team2[i] == team_5 :\n",
    "        if df.score1[i] > df.score2[i]:\n",
    "            dic_t5[\"win\"][1] += 1\n",
    "            dic_t5[\"win\"][2] += 1\n",
    "            dic_t5[\"total\"][1] += 1\n",
    "            dic_t5[\"total\"][2] += 1\n",
    "        elif df.score1[i] < df.score2[i]:\n",
    "            dic_t5[\"lose\"][1] += 1\n",
    "            dic_t5[\"lose\"][2] += 1\n",
    "            dic_t5[\"total\"][1] += 1\n",
    "            dic_t5[\"total\"][2] += 1\n",
    "        else:\n",
    "            dic_t5[\"draw\"][1] += 1\n",
    "            dic_t5[\"draw\"][2] += 1\n",
    "            dic_t5[\"total\"][1] += 1\n",
    "            dic_t5[\"total\"][2] += 1\n",
    "\n",
    "cont_table_t1 = pd.DataFrame(dic_t1)\n",
    "cont_table_t2 = pd.DataFrame(dic_t2)\n",
    "cont_table_t3 = pd.DataFrame(dic_t3)\n",
    "cont_table_t4 = pd.DataFrame(dic_t4)\n",
    "cont_table_t5 = pd.DataFrame(dic_t5)\n",
    "#cont_table_t1\n",
    "#cont_table_t2\n",
    "#cont_table_t3\n",
    "#cont_table_t4\n",
    "cont_table_t5"
   ]
  },
  {
   "cell_type": "markdown",
   "metadata": {},
   "source": [
    "   # RQ 3"
   ]
  },
  {
   "cell_type": "code",
   "execution_count": null,
   "metadata": {},
   "outputs": [],
   "source": [
    "coaches = pd.read_json('../dataset/coaches.json')\n",
    "teams = pd.read_json('../dataset/teams.json', orient = 'record')\n",
    "coach_teams_orig = pd.merge(coaches, teams, left_on=\"currentTeamId\", right_on=\"wyId\")\n",
    "coach_teams = pd.DataFrame(coach_teams_orig, columns=[\"birthDate\", \"firstName\", \"lastName\", \"shortName\", \"currentTeamId\", \"name\", \"officialName\"])"
   ]
  },
  {
   "cell_type": "code",
   "execution_count": null,
   "metadata": {},
   "outputs": [],
   "source": [
    "#we need premier league coach only\n",
    "coach_teams_en = coach_teams[coach_teams.name.isin(allsquad.columns) | coach_teams.officialName.isin(allsquad.columns)]"
   ]
  },
  {
   "cell_type": "code",
   "execution_count": null,
   "metadata": {},
   "outputs": [],
   "source": [
    "# TODO: move in functions.py"
   ]
  },
  {
   "cell_type": "code",
   "execution_count": null,
   "metadata": {
    "scrolled": true
   },
   "outputs": [],
   "source": [
    "#add age column\n",
    "coach_teams_en = coach_teams_en.assign(age = coach_teams_en[\"birthDate\"].apply(func.calculateAge))"
   ]
  },
  {
   "cell_type": "code",
   "execution_count": null,
   "metadata": {},
   "outputs": [],
   "source": [
    "#rename columns and sort the dataframe by age\n",
    "coach_teams_en.rename(columns={\"name\" : \"teamName\", \"officialName\" : \"officialTeamName\"}, inplace = True)\n",
    "coach_teams_en.sort_values(by= [\"age\"], inplace = True)"
   ]
  },
  {
   "cell_type": "code",
   "execution_count": null,
   "metadata": {},
   "outputs": [],
   "source": [
    "# there are two coaches of the same team, we take the youngest\n",
    "coach_teams_en.drop_duplicates(subset = \"currentTeamId\", keep=\"first\", inplace = True )"
   ]
  },
  {
   "cell_type": "code",
   "execution_count": null,
   "metadata": {},
   "outputs": [],
   "source": [
    "#box plot\n",
    "fig = plt.figure()\n",
    "fig.suptitle('Boxplot for the age of coaches', fontsize=14, fontweight='bold')\n",
    "fig.set_size_inches(12,6)\n",
    "ax = fig.add_subplot(111)\n",
    "ax.boxplot(coach_teams_en[\"age\"])\n",
    "ax.set_ylabel('age')"
   ]
  },
  {
   "cell_type": "code",
   "execution_count": null,
   "metadata": {},
   "outputs": [],
   "source": [
    "print(\"The 10 youngest coaches\\n\")\n",
    "yougest_coaches_en = coach_teams_en[:10]\n",
    "for index, el in yougest_coaches_en.iterrows():\n",
    "    print( el[\"firstName\"], el[\"lastName\"], \"\\nage:\", el[\"age\"], \"\\t team:\", el[\"teamName\"],\"\\n\")"
   ]
  },
  {
   "cell_type": "markdown",
   "metadata": {},
   "source": [
    "## RQ5"
   ]
  },
  {
   "cell_type": "code",
   "execution_count": null,
   "metadata": {},
   "outputs": [],
   "source": [
    "players = pd.read_json('../dataset/players.json')\n",
    "events = pd.read_json('../dataset/events/events_England.json')\n",
    "teams = pd.read_json('../dataset/teams.json')\n",
    "interest_event = \"Air duel\""
   ]
  },
  {
   "cell_type": "code",
   "execution_count": null,
   "metadata": {
    "scrolled": true
   },
   "outputs": [],
   "source": [
    "air_duels = events[events[\"subEventName\"] == interest_event]\n",
    "teams_en = teams[teams.name.isin(allsquad.columns) | teams.name.isin(allsquad.columns)]"
   ]
  },
  {
   "cell_type": "code",
   "execution_count": null,
   "metadata": {},
   "outputs": [],
   "source": [
    "players.drop(columns=[\"birthArea\", \"birthDate\", \"currentNationalTeamId\", \"foot\", \"middleName\", \"passportArea\", \"role\", \"weight\"], inplace=True)"
   ]
  },
  {
   "cell_type": "code",
   "execution_count": null,
   "metadata": {},
   "outputs": [],
   "source": [
    "air_duels = pd.merge(air_duels, players, left_on=\"playerId\", right_on=\"wyId\")\n",
    "air_duels = air_duels[air_duels.currentTeamId.isin(teams_en[\"wyId\"].values)]"
   ]
  },
  {
   "cell_type": "code",
   "execution_count": null,
   "metadata": {},
   "outputs": [],
   "source": [
    "air_duels = air_duels.assign(won_duel = air_duels[\"tags\"].apply(func.won_duel))"
   ]
  },
  {
   "cell_type": "code",
   "execution_count": null,
   "metadata": {},
   "outputs": [],
   "source": [
    "air_duels.drop(columns = ['teamId', 'currentTeamId', 'wyId', 'eventId','eventName', 'eventSec', 'id', 'matchPeriod', 'positions', 'subEventId', 'subEventName', 'tags', 'matchId'], inplace = True)"
   ]
  },
  {
   "cell_type": "code",
   "execution_count": null,
   "metadata": {},
   "outputs": [],
   "source": [
    "air_duels_won_by_player = air_duels.groupby([\"playerId\", \"shortName\", \"height\", \"firstName\", \"lastName\"]).sum()\n",
    "air_duels_by_player = air_duels.groupby([\"playerId\", \"shortName\", \"height\", \"firstName\", \"lastName\"]).count()"
   ]
  },
  {
   "cell_type": "code",
   "execution_count": null,
   "metadata": {},
   "outputs": [],
   "source": [
    "air_duels_won_by_player.reset_index(inplace=True)\n",
    "air_duels_by_player.reset_index(inplace=True)"
   ]
  },
  {
   "cell_type": "code",
   "execution_count": null,
   "metadata": {},
   "outputs": [],
   "source": [
    "air_duels_by_player.rename(columns={\"won_duel\" : \"tot_duel\"}, inplace=True)"
   ]
  },
  {
   "cell_type": "code",
   "execution_count": null,
   "metadata": {},
   "outputs": [],
   "source": [
    "air_duels_by_player_mg = pd.merge(air_duels_by_player, air_duels_won_by_player, left_on=\"playerId\", right_on=\"playerId\")"
   ]
  },
  {
   "cell_type": "code",
   "execution_count": null,
   "metadata": {},
   "outputs": [],
   "source": [
    "air_duels_by_player_mg.sort_values(by=\"won_duel\",ascending=False, inplace=True)"
   ]
  },
  {
   "cell_type": "code",
   "execution_count": null,
   "metadata": {},
   "outputs": [],
   "source": [
    "air_duels_by_player_mg.drop(columns=[\"shortName_y\", \"height_y\", \"firstName_y\", \"lastName_y\"], inplace=True)"
   ]
  },
  {
   "cell_type": "code",
   "execution_count": null,
   "metadata": {},
   "outputs": [],
   "source": [
    "air_duels_by_player_mg.rename(columns={\"shortName_x\" : \"shortName\", \"firstName_x\" : \"firstName\", \"lastName_x\" : \"lastName\", \"height_x\" : \"height\"}, inplace=True)"
   ]
  },
  {
   "cell_type": "code",
   "execution_count": null,
   "metadata": {},
   "outputs": [],
   "source": [
    "# delete all players with air duels attempts under the mean \n",
    "air_duels_by_player_mg_redux = air_duels_by_player_mg[air_duels_by_player_mg.tot_duel > air_duels_by_player_mg.tot_duel.mean()]\n",
    "air_duels_by_player_mg_redux = air_duels_by_player_mg_redux.assign(ratio = air_duels_by_player_mg_redux[\"won_duel\"]/air_duels_by_player_mg_redux[\"tot_duel\"])\n"
   ]
  },
  {
   "cell_type": "code",
   "execution_count": null,
   "metadata": {},
   "outputs": [],
   "source": [
    "air_duels_by_player_mg_redux = air_duels_by_player_mg_redux.assign(category = air_duels_by_player_mg_redux.height.apply(func.assignHeightCategory))"
   ]
  },
  {
   "cell_type": "code",
   "execution_count": null,
   "metadata": {
    "scrolled": true
   },
   "outputs": [],
   "source": [
    "ax1 = air_duels_by_player_mg_redux.plot.scatter(x='height', y='ratio', c=func.getColorsByHeight(air_duels_by_player_mg_redux.height.values))"
   ]
  },
  {
   "cell_type": "markdown",
   "metadata": {},
   "source": [
    "\n",
    "## CR2"
   ]
  },
  {
   "cell_type": "code",
   "execution_count": null,
   "metadata": {},
   "outputs": [],
   "source": [
    "players = pd.read_json('../dataset/players.json')\n",
    "spain_matches = pd.read_json('../dataset/matches/matches_Spain.json')\n",
    "spain_events = pd.read_json('../dataset/events/events_Spain.json')"
   ]
  },
  {
   "cell_type": "code",
   "execution_count": null,
   "metadata": {},
   "outputs": [],
   "source": [
    "# we need only two players\n",
    "messi = players[players['shortName'].str.contains(\"Messi\")]\n",
    "ronaldo = players[players['shortName'].str.contains(\"Ronaldo\")]"
   ]
  },
  {
   "cell_type": "code",
   "execution_count": null,
   "metadata": {},
   "outputs": [],
   "source": [
    "messi   = messi.drop(columns=[\"birthArea\", \"birthDate\", \"currentNationalTeamId\", \"firstName\", \"foot\", \"height\", \"lastName\", \"middleName\", \"passportArea\", \"role\", \"weight\"])\n",
    "ronaldo = ronaldo.drop(columns=[\"birthArea\", \"birthDate\", \"currentNationalTeamId\", \"firstName\", \"foot\", \"height\", \"lastName\", \"middleName\", \"passportArea\", \"role\", \"weight\"])\n"
   ]
  },
  {
   "cell_type": "code",
   "execution_count": null,
   "metadata": {},
   "outputs": [],
   "source": [
    "# find match from date and team\n",
    "barca_real_match = spain_matches[spain_matches[\"dateutc\"].str.contains('2018-05-06') & spain_matches[\"label\"].str.contains('Barcelona')]"
   ]
  },
  {
   "cell_type": "code",
   "execution_count": null,
   "metadata": {},
   "outputs": [],
   "source": [
    "barca_real_events = spain_events[spain_events[\"matchId\"].isin(barca_real_match[\"wyId\"].values)]\n",
    "ronaldo_events = barca_real_events[barca_real_events[\"playerId\"].isin(ronaldo[\"wyId\"].values)]\n",
    "messi_events = barca_real_events[barca_real_events[\"playerId\"].isin(messi[\"wyId\"].values)]"
   ]
  },
  {
   "cell_type": "code",
   "execution_count": null,
   "metadata": {},
   "outputs": [],
   "source": [
    "ronaldo_events = ronaldo_events[ronaldo_events.eventName.isin([\"Pass\", \"Duel\", \"Free Kick\", \"Shot\"])]\n",
    "messi_events = messi_events[messi_events.eventName.isin([\"Pass\", \"Duel\", \"Free Kick\", \"Shot\"])]"
   ]
  },
  {
   "cell_type": "code",
   "execution_count": null,
   "metadata": {},
   "outputs": [],
   "source": [
    "ronaldo_events = ronaldo_events.drop(columns = [\"eventId\", \"matchId\", \"matchPeriod\", \"id\", \"eventSec\", \"playerId\", \"subEventId\", \"subEventName\", \"tags\", \"teamId\"])\n",
    "messi_events = messi_events.drop(columns=[\"eventId\", \"matchId\", \"matchPeriod\", \"id\", \"eventSec\", \"playerId\", \"subEventId\", \"subEventName\", \"tags\", \"teamId\"])\n"
   ]
  },
  {
   "cell_type": "code",
   "execution_count": null,
   "metadata": {},
   "outputs": [],
   "source": [
    "#we want to do a heatmap, we will consider the starting position of each event\n",
    "ronaldo_events = ronaldo_events.assign(starting_position = ronaldo_events[\"positions\"].apply(func.getStartingPosition))\n",
    "messi_events = messi_events.assign(starting_position = messi_events[\"positions\"].apply(func.getStartingPosition))\n"
   ]
  },
  {
   "cell_type": "code",
   "execution_count": null,
   "metadata": {},
   "outputs": [],
   "source": [
    "ronaldo_cordinates = list(ronaldo_events.starting_position.values)\n",
    "messi_cordinates = list(messi_events.starting_position.values)"
   ]
  },
  {
   "cell_type": "code",
   "execution_count": null,
   "metadata": {},
   "outputs": [],
   "source": []
  },
  {
   "cell_type": "code",
   "execution_count": null,
   "metadata": {},
   "outputs": [],
   "source": [
    "ronaldo_cordinates_x = [el['x']*1.2 for el in ronaldo_cordinates]\n",
    "ronaldo_cordinates_y = [el['y']*0.8 for el in ronaldo_cordinates]\n",
    "messi_cordinates_x = [el['x']*1.2 for el in messi_cordinates]\n",
    "messi_cordinates_y = [el['y']*0.8 for el in messi_cordinates]"
   ]
  },
  {
   "cell_type": "code",
   "execution_count": null,
   "metadata": {},
   "outputs": [],
   "source": [
    "ronaldo_cordinates_x_y = {'x' : ronaldo_cordinates_x, 'y' : ronaldo_cordinates_y}\n",
    "messi_cordinates_x_y = {'x' : messi_cordinates_x, 'y' : messi_cordinates_y}"
   ]
  },
  {
   "cell_type": "code",
   "execution_count": null,
   "metadata": {},
   "outputs": [],
   "source": [
    "func.heatMap(ronaldo_cordinates_x_y, 'BuGn')"
   ]
  },
  {
   "cell_type": "code",
   "execution_count": null,
   "metadata": {
    "scrolled": false
   },
   "outputs": [],
   "source": [
    "func.heatMap(messi_cordinates_x_y, 'BuGn')"
   ]
  },
  {
   "cell_type": "markdown",
   "metadata": {},
   "source": [
    "#### PART 2"
   ]
  },
  {
   "cell_type": "code",
   "execution_count": null,
   "metadata": {},
   "outputs": [],
   "source": [
    "italy_matches = pd.read_json('../dataset/matches/matches_Italy.json')\n",
    "italy_events = pd.read_json('../dataset/events/events_Italy.json')"
   ]
  },
  {
   "cell_type": "code",
   "execution_count": null,
   "metadata": {},
   "outputs": [],
   "source": [
    "# we need only two players\n",
    "jorginho = players[players['shortName'].str.contains(\"Jorginho\")]\n",
    "pjanic = players[players['firstName'].str.contains(\"Miralem\")]"
   ]
  },
  {
   "cell_type": "code",
   "execution_count": null,
   "metadata": {},
   "outputs": [],
   "source": [
    "jorginho = jorginho.drop(columns=[\"birthArea\", \"birthDate\", \"currentNationalTeamId\", \"firstName\", \"foot\", \"height\", \"lastName\", \"middleName\", \"passportArea\", \"role\", \"weight\"])\n",
    "pjanic   = pjanic.drop(columns=[\"birthArea\", \"birthDate\", \"currentNationalTeamId\", \"firstName\", \"foot\", \"height\", \"lastName\", \"middleName\", \"passportArea\", \"role\", \"weight\"])\n",
    "pjanic[\"shortName\"] = \"M. Pjanic\""
   ]
  },
  {
   "cell_type": "code",
   "execution_count": null,
   "metadata": {},
   "outputs": [],
   "source": [
    "juve_napoli_match = italy_matches[italy_matches[\"dateutc\"].str.contains('2018-04-22') & italy_matches[\"label\"].str.contains('Napoli')]"
   ]
  },
  {
   "cell_type": "code",
   "execution_count": null,
   "metadata": {},
   "outputs": [],
   "source": []
  },
  {
   "cell_type": "code",
   "execution_count": null,
   "metadata": {},
   "outputs": [],
   "source": [
    "juve_napoli_events = italy_events[italy_events[\"matchId\"].isin(juve_napoli_match[\"wyId\"].values)]\n",
    "pjanic_events = juve_napoli_events[juve_napoli_events[\"playerId\"].isin(pjanic[\"wyId\"].values)]\n",
    "jorginho_events = juve_napoli_events[juve_napoli_events[\"playerId\"].isin(jorginho[\"wyId\"].values)]"
   ]
  },
  {
   "cell_type": "code",
   "execution_count": null,
   "metadata": {},
   "outputs": [],
   "source": [
    "pjanic_events = pjanic_events[pjanic_events.eventName.isin([\"Pass\"])]\n",
    "jorginho_events = jorginho_events[jorginho_events.eventName.isin([\"Pass\"])]"
   ]
  },
  {
   "cell_type": "code",
   "execution_count": null,
   "metadata": {},
   "outputs": [],
   "source": [
    "pjanic_events = pjanic_events.drop(columns = [\"eventId\", \"matchId\", \"matchPeriod\", \"id\", \"eventSec\", \"playerId\", \"subEventId\", \"teamId\"])\n",
    "jorginho_events = jorginho_events.drop(columns=[\"eventId\", \"matchId\", \"matchPeriod\", \"id\", \"eventSec\", \"playerId\", \"subEventId\", \"teamId\"])\n"
   ]
  },
  {
   "cell_type": "code",
   "execution_count": null,
   "metadata": {},
   "outputs": [],
   "source": []
  },
  {
   "cell_type": "code",
   "execution_count": null,
   "metadata": {},
   "outputs": [],
   "source": [
    "pjanic_events = pjanic_events.assign(accuratePass = pjanic_events.tags.apply(func.isAccuratePass))"
   ]
  },
  {
   "cell_type": "code",
   "execution_count": null,
   "metadata": {},
   "outputs": [],
   "source": [
    "jorginho_events = jorginho_events.assign(accuratePass = jorginho_events.tags.apply(func.isAccuratePass))"
   ]
  },
  {
   "cell_type": "code",
   "execution_count": null,
   "metadata": {},
   "outputs": [],
   "source": [
    "passes = pjanic_events.append(jorginho_events)"
   ]
  },
  {
   "cell_type": "code",
   "execution_count": null,
   "metadata": {},
   "outputs": [],
   "source": []
  },
  {
   "cell_type": "code",
   "execution_count": null,
   "metadata": {},
   "outputs": [],
   "source": [
    "func.plotPassesMap(jorginho_events, \"Jorginho Passes\")"
   ]
  },
  {
   "cell_type": "code",
   "execution_count": null,
   "metadata": {
    "scrolled": false
   },
   "outputs": [],
   "source": [
    "func.plotPassesMap(pjanic_events, \"Pjanic Passes\")"
   ]
  },
  {
   "cell_type": "markdown",
   "metadata": {},
   "source": [
    "    Jorginho made 114 passes, 60 more than Pjanic. \n",
    "    Pjanic and Jorginho play in the same position of the field, so observing the passages we could hypothesize that Napoli held the higher barycentre. \n",
    "    Given the difference of the number of passes, it is possible to assume a superior ball possession of Napoli. One of the characteristics of Napoli's game is the ball possession in the narrow (that means with many passages nearby ), and this is confirmed by the length of Jorginho's passages.\n",
    "    Pjanic missed only one pass of 44, but he never tried to verticalise, when Jorginho missed many more passes, but he tried some vertical passes forward."
   ]
  },
  {
   "cell_type": "code",
   "execution_count": null,
   "metadata": {
    "scrolled": true
   },
   "outputs": [],
   "source": [
    "func.plotPassesMap(passes, \"Jorginho e Pjanic Passes\")"
   ]
  },
  {
   "cell_type": "markdown",
   "metadata": {},
   "source": [
    "    In general it's clear how the passages made by the two players are only in the lower or central part of the field, and never near the opponent's goal."
   ]
  },
  {
   "cell_type": "markdown",
   "metadata": {},
   "source": [
    "## RQ 6"
   ]
  },
  {
   "cell_type": "markdown",
   "metadata": {},
   "source": [
    "    We would inspect some aspects of the fouls committed:\n",
    "        - avg of fouls per game for each league\n",
    "        - more aggressive players (players with many committed fouls)"
   ]
  },
  {
   "cell_type": "code",
   "execution_count": null,
   "metadata": {},
   "outputs": [],
   "source": [
    "events_ita = pd.read_json('../dataset/events/events_Italy.json')\n",
    "events_spa = pd.read_json('../dataset/events/events_Spain.json')\n",
    "events_eng = pd.read_json('../dataset/events/events_England.json')\n",
    "events_fra = pd.read_json('../dataset/events/events_France.json')\n",
    "events_ger = pd.read_json('../dataset/events/events_Germany.json')"
   ]
  },
  {
   "cell_type": "code",
   "execution_count": null,
   "metadata": {},
   "outputs": [],
   "source": [
    "fouls_ita = events_ita[events_ita[\"eventName\"] == \"Foul\"]\n",
    "fouls_spa = events_spa[events_spa[\"eventName\"] == \"Foul\"]\n",
    "fouls_eng = events_eng[events_eng[\"eventName\"] == \"Foul\"]\n",
    "fouls_fra = events_fra[events_fra[\"eventName\"] == \"Foul\"]\n",
    "fouls_ger = events_ger[events_ger[\"eventName\"] == \"Foul\"]"
   ]
  },
  {
   "cell_type": "code",
   "execution_count": null,
   "metadata": {},
   "outputs": [],
   "source": [
    "fouls_ita = fouls_ita.drop(columns=[\"eventId\", \"eventName\", \"playerId\", \"eventSec\", \"matchPeriod\", \"positions\", \"subEventId\", \"subEventName\", \"tags\", \"teamId\", \"id\"])\n",
    "fouls_spa = fouls_spa.drop(columns=[\"eventId\", \"eventName\", \"playerId\", \"eventSec\", \"matchPeriod\", \"positions\", \"subEventId\", \"subEventName\", \"tags\", \"teamId\", \"id\"])\n",
    "fouls_eng = fouls_eng.drop(columns=[\"eventId\", \"eventName\", \"playerId\", \"eventSec\", \"matchPeriod\", \"positions\", \"subEventId\", \"subEventName\", \"tags\", \"teamId\", \"id\"])\n",
    "fouls_fra = fouls_fra.drop(columns=[\"eventId\", \"eventName\", \"playerId\", \"eventSec\", \"matchPeriod\", \"positions\", \"subEventId\", \"subEventName\", \"tags\", \"teamId\", \"id\"])\n",
    "fouls_ger = fouls_ger.drop(columns=[\"eventId\", \"eventName\", \"playerId\", \"eventSec\", \"matchPeriod\", \"positions\", \"subEventId\", \"subEventName\", \"tags\", \"teamId\", \"id\"])\n"
   ]
  },
  {
   "cell_type": "code",
   "execution_count": null,
   "metadata": {},
   "outputs": [],
   "source": [
    "fouls_ita = fouls_ita.assign(count = 1)\n",
    "fouls_spa = fouls_spa.assign(count = 1)\n",
    "fouls_eng = fouls_eng.assign(count = 1)\n",
    "fouls_fra = fouls_fra.assign(count = 1)\n",
    "fouls_ger = fouls_ger.assign(count = 1)"
   ]
  },
  {
   "cell_type": "code",
   "execution_count": null,
   "metadata": {},
   "outputs": [],
   "source": [
    "fouls_ita_for_each_match = fouls_ita.groupby(\"matchId\").sum()\n",
    "fouls_spa_for_each_match = fouls_spa.groupby(\"matchId\").sum()\n",
    "fouls_eng_for_each_match = fouls_eng.groupby(\"matchId\").sum()\n",
    "fouls_fra_for_each_match = fouls_fra.groupby(\"matchId\").sum()\n",
    "fouls_ger_for_each_match = fouls_ger.groupby(\"matchId\").sum()"
   ]
  },
  {
   "cell_type": "code",
   "execution_count": null,
   "metadata": {},
   "outputs": [],
   "source": [
    "fouls_ita_per_match = fouls_ita_for_each_match.mean()\n",
    "fouls_spa_per_match = fouls_spa_for_each_match.mean()\n",
    "fouls_eng_per_match = fouls_eng_for_each_match.mean()\n",
    "fouls_fra_per_match = fouls_fra_for_each_match.mean()\n",
    "fouls_ger_per_match = fouls_ger_for_each_match.mean()"
   ]
  },
  {
   "cell_type": "code",
   "execution_count": null,
   "metadata": {
    "scrolled": true
   },
   "outputs": [],
   "source": [
    "objects = (\"ITA\", \"SPA\", \"ENG\", \"FRA\", \"GER\")\n",
    "y_pos = np.arange(len(objects))\n",
    "f = plt.subplots(figsize=(7,5))\n",
    "fouls_list = [fouls_ita_per_match.values[0],fouls_spa_per_match.values[0],fouls_eng_per_match.values[0],fouls_fra_per_match.values[0],fouls_ger_per_match.values[0]]\n",
    "plt.bar(y_pos, fouls_list, align='center', alpha=0.8)\n",
    "plt.xticks(y_pos, objects)\n",
    "plt.ylabel('Fouls')\n",
    "plt.title('Leagues')\n",
    "\n",
    "plt.show()"
   ]
  },
  {
   "cell_type": "markdown",
   "metadata": {},
   "source": [
    "    This plot confirms the commonplace of English arbitrage: in fact we note from the average of fouls per game that in Premier League less faults are assigned."
   ]
  },
  {
   "cell_type": "code",
   "execution_count": null,
   "metadata": {},
   "outputs": [],
   "source": [
    "ev_fouls_ita = events_ita[events_ita[\"eventName\"] == \"Foul\"]\n",
    "ev_fouls_spa = events_spa[events_spa[\"eventName\"] == \"Foul\"]\n",
    "ev_fouls_eng = events_eng[events_eng[\"eventName\"] == \"Foul\"]\n",
    "ev_fouls_fra = events_fra[events_fra[\"eventName\"] == \"Foul\"]\n",
    "ev_fouls_ger = events_ger[events_ger[\"eventName\"] == \"Foul\"]"
   ]
  },
  {
   "cell_type": "code",
   "execution_count": null,
   "metadata": {},
   "outputs": [],
   "source": [
    "ev_fouls_ita.head()"
   ]
  },
  {
   "cell_type": "code",
   "execution_count": null,
   "metadata": {},
   "outputs": [],
   "source": [
    "ev_players_fouls_ita = pd.merge(left=ev_fouls_ita, right=players, left_on=\"playerId\", right_on=\"wyId\")\n",
    "ev_players_fouls_spa = pd.merge(left=ev_fouls_spa, right=players, left_on=\"playerId\", right_on=\"wyId\")\n",
    "ev_players_fouls_eng = pd.merge(left=ev_fouls_eng, right=players, left_on=\"playerId\", right_on=\"wyId\")\n",
    "ev_players_fouls_fra = pd.merge(left=ev_fouls_fra, right=players, left_on=\"playerId\", right_on=\"wyId\")\n",
    "ev_players_fouls_ger = pd.merge(left=ev_fouls_ger, right=players, left_on=\"playerId\", right_on=\"wyId\")"
   ]
  },
  {
   "cell_type": "code",
   "execution_count": null,
   "metadata": {},
   "outputs": [],
   "source": [
    "ev_players_fouls_ita.assign(count_fouls = 1, inplace=True)\n",
    "ev_players_fouls_spa.assign(count_fouls = 1, inplace=True)\n",
    "ev_players_fouls_eng.assign(count_fouls = 1, inplace=True)\n",
    "ev_players_fouls_fra.assign(count_fouls = 1, inplace=True)\n",
    "ev_players_fouls_ger.assign(count_fouls = 1, inplace=True)"
   ]
  },
  {
   "cell_type": "code",
   "execution_count": null,
   "metadata": {},
   "outputs": [],
   "source": [
    "ev_players_fouls_ita.drop(columns=[\"eventId\", \"eventName\", \"eventSec\", \"id\", \"matchPeriod\", \"positions\", \"subEventId\", \"subEventName\", \"tags\", \"teamId\", \"birthArea\", \"birthDate\", \"currentNationalTeamId\", \"currentTeamId\", \"firstName\", \"foot\", \"firstName\", \"lastName\", \"middleName\", \"passportArea\", \"wyId\", \"playerId\", \"height\", \"weight\"], inplace= True)\n",
    "ev_players_fouls_spa.drop(columns=[\"eventId\", \"eventName\", \"eventSec\", \"id\", \"matchPeriod\", \"positions\", \"subEventId\", \"subEventName\", \"tags\", \"teamId\", \"birthArea\", \"birthDate\", \"currentNationalTeamId\", \"currentTeamId\", \"firstName\", \"foot\", \"firstName\", \"lastName\", \"middleName\", \"passportArea\", \"wyId\", \"playerId\", \"height\", \"weight\"], inplace= True)\n",
    "ev_players_fouls_eng.drop(columns=[\"eventId\", \"eventName\", \"eventSec\", \"id\", \"matchPeriod\", \"positions\", \"subEventId\", \"subEventName\", \"tags\", \"teamId\", \"birthArea\", \"birthDate\", \"currentNationalTeamId\", \"currentTeamId\", \"firstName\", \"foot\", \"firstName\", \"lastName\", \"middleName\", \"passportArea\", \"wyId\", \"playerId\", \"height\", \"weight\"], inplace= True)\n",
    "ev_players_fouls_fra.drop(columns=[\"eventId\", \"eventName\", \"eventSec\", \"id\", \"matchPeriod\", \"positions\", \"subEventId\", \"subEventName\", \"tags\", \"teamId\", \"birthArea\", \"birthDate\", \"currentNationalTeamId\", \"currentTeamId\", \"firstName\", \"foot\", \"firstName\", \"lastName\", \"middleName\", \"passportArea\", \"wyId\", \"playerId\", \"height\", \"weight\"], inplace= True)\n",
    "ev_players_fouls_ger.drop(columns=[\"eventId\", \"eventName\", \"eventSec\", \"id\", \"matchPeriod\", \"positions\", \"subEventId\", \"subEventName\", \"tags\", \"teamId\", \"birthArea\", \"birthDate\", \"currentNationalTeamId\", \"currentTeamId\", \"firstName\", \"foot\", \"firstName\", \"lastName\", \"middleName\", \"passportArea\", \"wyId\", \"playerId\", \"height\", \"weight\"], inplace= True)\n"
   ]
  },
  {
   "cell_type": "code",
   "execution_count": null,
   "metadata": {},
   "outputs": [],
   "source": [
    "p_fouls_ita_for_each_match = ev_players_fouls_ita.groupby([\"matchId\", \"shortName\"]).sum()\n",
    "p_fouls_spa_for_each_match = ev_players_fouls_spa.groupby([\"matchId\", \"shortName\"]).sum()\n",
    "p_fouls_eng_for_each_match = ev_players_fouls_eng.groupby([\"matchId\", \"shortName\"]).sum()\n",
    "p_fouls_fra_for_each_match = ev_players_fouls_fra.groupby([\"matchId\", \"shortName\"]).sum()\n",
    "p_fouls_ger_for_each_match = ev_players_fouls_ger.groupby([\"matchId\", \"shortName\"]).sum()"
   ]
  },
  {
   "cell_type": "code",
   "execution_count": null,
   "metadata": {},
   "outputs": [],
   "source": []
  },
  {
   "cell_type": "code",
   "execution_count": null,
   "metadata": {},
   "outputs": [],
   "source": []
  }
 ],
 "metadata": {
  "kernelspec": {
   "display_name": "Python 3",
   "language": "python",
   "name": "python3"
  },
  "language_info": {
   "codemirror_mode": {
    "name": "ipython",
    "version": 3
   },
   "file_extension": ".py",
   "mimetype": "text/x-python",
   "name": "python",
   "nbconvert_exporter": "python",
   "pygments_lexer": "ipython3",
   "version": "3.7.2"
  }
 },
 "nbformat": 4,
 "nbformat_minor": 2
}

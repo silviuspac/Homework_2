{
 "cells": [
  {
   "cell_type": "markdown",
   "metadata": {},
   "source": [
    "# Theorical question "
   ]
  },
  {
   "cell_type": "markdown",
   "metadata": {},
   "source": [
    "### 1. Running Time"
   ]
  },
  {
   "cell_type": "markdown",
   "metadata": {},
   "source": [
    "For the analysis of this recursive algorithm we will use master theorem:\n",
    "    \n",
    "$Given:$\n",
    "\n",
    "$T(n) = aT(n/b) + f(n)$\n",
    "\n",
    "$With:$\n",
    "\n",
    "$f(n) = O(n^k log^pn)$\n",
    "\n",
    "$a \\geqslant 1$\n",
    "\n",
    "$b > 1$\n",
    "\n",
    "$log_ba$\n",
    "\n",
    "$k$\n",
    "\n",
    "We know that the complexity will be:\n",
    "\n",
    "$Case 1:  if \\ log_ba > k \\ \\ \\ then  \\ \\ \\ O(n^{log_ba})$\n",
    "\n",
    "$Case 2:  if \\ log_ba = k :$\n",
    "\n",
    "$\\ \\ \\ \\ \\ \\ \\ \\ \\ \\ \\ \\ if \\ p > -1 \\ \\ \\ then \\ \\ \\ O(n^klog^{p+1}n)$\n",
    "\n",
    "$\\ \\ \\ \\ \\ \\ \\ \\ \\ \\ \\ \\ if \\ p = -1 \\ \\ \\ then \\ \\ \\ O(n^kloglogn)$\n",
    "\n",
    "$\\ \\ \\ \\ \\ \\ \\ \\ \\ \\ \\ \\ if \\ p < -1 \\ \\ \\ then \\ \\ \\ O(n^k)$\n",
    "\n",
    "$Case 2:  if \\ log_ba < k :$\n",
    "\n",
    "$\\ \\ \\ \\ \\ \\ \\ \\ \\ \\ \\ \\ if \\ p \\geqslant 0 \\ \\ \\ then \\ \\ \\ O(n^klog^{p}n)$\n",
    "\n",
    "$\\ \\ \\ \\ \\ \\ \\ \\ \\ \\ \\ \\ if \\ p < 0 \\ \\ \\ then \\ \\ \\ O(n^k)$"
   ]
  },
  {
   "cell_type": "markdown",
   "metadata": {},
   "source": [
    "### Our algorithm\n",
    "\n",
    "The recurrence relation of the algorithm is:\n",
    "\n",
    "$T(n)\\ =\\ T(n/2)\\ +\\ T(n/2) + 3/2n$       \n",
    "\n",
    "$T(n)\\ =\\ 2T(n/2)\\ +\\ O(n)\\ \\ \\ \\ \\ \\ \\ \\ \\ \\ \\ \\ \\ \\ \\# O(n)\\ is\\ the\\ running\\ time\\ of\\ the\\ non\\ recursive\\ function\\ swapList$\n",
    "\n",
    "So:\n",
    "$a = 2$\n",
    "\n",
    "$b = 2$\n",
    "\n",
    "$k = 1$\n",
    "\n",
    "$p = 0$\n",
    "\n",
    "$log_ba = 1$\n",
    "So we are in the second case, with p > -1:\n",
    "\n",
    "$Then\\ the\\ running\\ time\\ of\\ splitSwap is:$\n",
    "\n",
    "$O(nlogn)$\n",
    "\n"
   ]
  },
  {
   "cell_type": "markdown",
   "metadata": {},
   "source": [
    "### 1. What does the algorithm do?\n",
    "\n",
    "This algorithm is head recursive.\n",
    "Each call of the recursive algorithm is made on the first and second half of the array.\n",
    "Then starting from the smallest partition of a the algorithm start swapping a so that that particular partition is specular with the original one. So returnig back to the larger partition of a we apply again and again swapList, and in the end we will have the entire array a swapped.\n",
    "\n",
    "The algorithm is non optimal because che can write a much simpler algorithm that swap the [n] element with the [-n] element: with n < len(a)/2\n",
    "With a complexity of:\n",
    "\n",
    "$O(n)$"
   ]
  }
 ],
 "metadata": {
  "kernelspec": {
   "display_name": "Python 3",
   "language": "python",
   "name": "python3"
  },
  "language_info": {
   "codemirror_mode": {
    "name": "ipython",
    "version": 3
   },
   "file_extension": ".py",
   "mimetype": "text/x-python",
   "name": "python",
   "nbconvert_exporter": "python",
   "pygments_lexer": "ipython3",
   "version": "3.7.4"
  }
 },
 "nbformat": 4,
 "nbformat_minor": 2
}
